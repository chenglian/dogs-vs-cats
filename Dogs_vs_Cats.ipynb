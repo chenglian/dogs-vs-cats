{
 "cells": [
  {
   "cell_type": "code",
   "execution_count": 1,
   "metadata": {},
   "outputs": [],
   "source": [
    "import os, shutil"
   ]
  },
  {
   "cell_type": "code",
   "execution_count": 2,
   "metadata": {},
   "outputs": [],
   "source": [
    "base_dir = './data/cats_and_dogs_small'\n",
    "train_dir = os.path.join(base_dir, 'train')\n",
    "validation_dir = os.path.join(base_dir, 'validation')\n",
    "test_dir = os.path.join(base_dir, 'test')"
   ]
  },
  {
   "cell_type": "code",
   "execution_count": 3,
   "metadata": {},
   "outputs": [
    {
     "name": "stderr",
     "output_type": "stream",
     "text": [
      "/anaconda/envs/py36-venv/lib/python3.6/site-packages/h5py/__init__.py:36: FutureWarning: Conversion of the second argument of issubdtype from `float` to `np.floating` is deprecated. In future, it will be treated as `np.float64 == np.dtype(float).type`.\n",
      "  from ._conv import register_converters as _register_converters\n",
      "Using TensorFlow backend.\n"
     ]
    }
   ],
   "source": [
    "from keras.preprocessing.image import ImageDataGenerator"
   ]
  },
  {
   "cell_type": "code",
   "execution_count": 4,
   "metadata": {},
   "outputs": [],
   "source": [
    "train_datagen = ImageDataGenerator(rescale=1./255)\n",
    "test_datagen = ImageDataGenerator(rescale=1./255)"
   ]
  },
  {
   "cell_type": "code",
   "execution_count": null,
   "metadata": {},
   "outputs": [],
   "source": []
  },
  {
   "cell_type": "code",
   "execution_count": 8,
   "metadata": {},
   "outputs": [
    {
     "name": "stdout",
     "output_type": "stream",
     "text": [
      "Found 2000 images belonging to 2 classes.\n",
      "Found 1000 images belonging to 2 classes.\n"
     ]
    }
   ],
   "source": [
    "train_generator = train_datagen.flow_from_directory(\n",
    "        # This is the target directory\n",
    "        train_dir,\n",
    "        # All images will be resized to 150x150\n",
    "        target_size=(150, 150),\n",
    "        batch_size=20,\n",
    "        # Since we use binary_crossentropy loss, we need binary labels\n",
    "        class_mode='binary')\n",
    "\n",
    "validation_generator = test_datagen.flow_from_directory(\n",
    "        validation_dir,\n",
    "        target_size=(150, 150),\n",
    "        batch_size=20,\n",
    "        class_mode='binary')"
   ]
  },
  {
   "cell_type": "code",
   "execution_count": 9,
   "metadata": {},
   "outputs": [
    {
     "name": "stdout",
     "output_type": "stream",
     "text": [
      "data batch shape: (20, 150, 150, 3)\n",
      "labels batch shape: (20,)\n"
     ]
    }
   ],
   "source": [
    "for data_batch, labels_batch in train_generator:\n",
    "    print('data batch shape:', data_batch.shape)\n",
    "    print('labels batch shape:', labels_batch.shape)\n",
    "    break"
   ]
  },
  {
   "cell_type": "code",
   "execution_count": 10,
   "metadata": {},
   "outputs": [],
   "source": [
    "from keras import layers\n",
    "from keras import models\n",
    "\n",
    "model = models.Sequential()\n",
    "\n",
    "model.add(layers.Conv2D(32, (3, 3), activation='relu',\n",
    "                        input_shape=(150, 150, 3)))\n",
    "model.add(layers.MaxPooling2D((2, 2)))\n",
    "\n",
    "model.add(layers.Conv2D(64, (3, 3), activation='relu'))\n",
    "model.add(layers.MaxPooling2D((2, 2)))\n",
    "\n",
    "model.add(layers.Conv2D(128, (3, 3), activation='relu'))\n",
    "model.add(layers.MaxPooling2D((2, 2)))\n",
    "\n",
    "model.add(layers.Conv2D(128, (3, 3), activation='relu'))\n",
    "model.add(layers.MaxPooling2D((2, 2)))\n",
    "\n",
    "model.add(layers.Flatten())\n",
    "model.add(layers.Dense(512, activation='relu'))\n",
    "model.add(layers.Dense(1, activation='sigmoid'))"
   ]
  },
  {
   "cell_type": "code",
   "execution_count": 8,
   "metadata": {},
   "outputs": [
    {
     "name": "stdout",
     "output_type": "stream",
     "text": [
      "_________________________________________________________________\n",
      "Layer (type)                 Output Shape              Param #   \n",
      "=================================================================\n",
      "conv2d_1 (Conv2D)            (None, 148, 148, 32)      896       \n",
      "_________________________________________________________________\n",
      "max_pooling2d_1 (MaxPooling2 (None, 74, 74, 32)        0         \n",
      "_________________________________________________________________\n",
      "conv2d_2 (Conv2D)            (None, 72, 72, 64)        18496     \n",
      "_________________________________________________________________\n",
      "max_pooling2d_2 (MaxPooling2 (None, 36, 36, 64)        0         \n",
      "_________________________________________________________________\n",
      "conv2d_3 (Conv2D)            (None, 34, 34, 128)       73856     \n",
      "_________________________________________________________________\n",
      "max_pooling2d_3 (MaxPooling2 (None, 17, 17, 128)       0         \n",
      "_________________________________________________________________\n",
      "conv2d_4 (Conv2D)            (None, 15, 15, 128)       147584    \n",
      "_________________________________________________________________\n",
      "max_pooling2d_4 (MaxPooling2 (None, 7, 7, 128)         0         \n",
      "_________________________________________________________________\n",
      "flatten_1 (Flatten)          (None, 6272)              0         \n",
      "_________________________________________________________________\n",
      "dense_1 (Dense)              (None, 512)               3211776   \n",
      "_________________________________________________________________\n",
      "dense_2 (Dense)              (None, 1)                 513       \n",
      "=================================================================\n",
      "Total params: 3,453,121\n",
      "Trainable params: 3,453,121\n",
      "Non-trainable params: 0\n",
      "_________________________________________________________________\n"
     ]
    }
   ],
   "source": [
    "model.summary()"
   ]
  },
  {
   "cell_type": "code",
   "execution_count": 11,
   "metadata": {},
   "outputs": [],
   "source": [
    "from keras import  optimizers\n",
    "model.compile(loss='binary_crossentropy',\n",
    "              optimizer=optimizers.Adam(lr=1e-4),\n",
    "              metrics=['acc'])"
   ]
  },
  {
   "cell_type": "code",
   "execution_count": 12,
   "metadata": {},
   "outputs": [
    {
     "name": "stdout",
     "output_type": "stream",
     "text": [
      "Epoch 1/20\n",
      "100/100 [==============================] - 216s 2s/step - loss: 0.6900 - acc: 0.5255 - val_loss: 0.6881 - val_acc: 0.5000\n",
      "Epoch 2/20\n",
      "100/100 [==============================] - 215s 2s/step - loss: 0.6536 - acc: 0.6085 - val_loss: 0.6585 - val_acc: 0.5930\n",
      "Epoch 3/20\n",
      "100/100 [==============================] - 227s 2s/step - loss: 0.5891 - acc: 0.6855 - val_loss: 0.5964 - val_acc: 0.6740\n",
      "Epoch 4/20\n",
      "100/100 [==============================] - 228s 2s/step - loss: 0.5328 - acc: 0.7405 - val_loss: 0.5755 - val_acc: 0.6920\n",
      "Epoch 5/20\n",
      "100/100 [==============================] - 228s 2s/step - loss: 0.5128 - acc: 0.7525 - val_loss: 0.5583 - val_acc: 0.7110\n",
      "Epoch 6/20\n",
      "100/100 [==============================] - 233s 2s/step - loss: 0.4792 - acc: 0.7685 - val_loss: 0.5784 - val_acc: 0.6810\n",
      "Epoch 7/20\n",
      "100/100 [==============================] - 223s 2s/step - loss: 0.4306 - acc: 0.8000 - val_loss: 0.5485 - val_acc: 0.7130\n",
      "Epoch 8/20\n",
      "100/100 [==============================] - 224s 2s/step - loss: 0.3896 - acc: 0.8330 - val_loss: 0.5480 - val_acc: 0.7220\n",
      "Epoch 9/20\n",
      "100/100 [==============================] - 4520s 45s/step - loss: 0.3730 - acc: 0.8310 - val_loss: 0.5486 - val_acc: 0.7300\n",
      "Epoch 10/20\n",
      "100/100 [==============================] - 218s 2s/step - loss: 0.3236 - acc: 0.8640 - val_loss: 0.5645 - val_acc: 0.7210\n",
      "Epoch 11/20\n",
      "100/100 [==============================] - 219s 2s/step - loss: 0.2975 - acc: 0.8755 - val_loss: 0.5555 - val_acc: 0.7400\n",
      "Epoch 12/20\n",
      "100/100 [==============================] - 226s 2s/step - loss: 0.2688 - acc: 0.9015 - val_loss: 0.5932 - val_acc: 0.7250\n",
      "Epoch 13/20\n",
      "100/100 [==============================] - 231s 2s/step - loss: 0.2334 - acc: 0.9105 - val_loss: 0.6645 - val_acc: 0.7200\n",
      "Epoch 14/20\n",
      "100/100 [==============================] - 232s 2s/step - loss: 0.2197 - acc: 0.9190 - val_loss: 0.5820 - val_acc: 0.7400\n",
      "Epoch 15/20\n",
      "100/100 [==============================] - 233s 2s/step - loss: 0.1846 - acc: 0.9340 - val_loss: 0.6636 - val_acc: 0.7300\n",
      "Epoch 16/20\n",
      "100/100 [==============================] - 232s 2s/step - loss: 0.1520 - acc: 0.9500 - val_loss: 0.6745 - val_acc: 0.7480\n",
      "Epoch 17/20\n",
      "100/100 [==============================] - 233s 2s/step - loss: 0.1425 - acc: 0.9540 - val_loss: 0.6815 - val_acc: 0.7430\n",
      "Epoch 18/20\n",
      "100/100 [==============================] - 9460s 95s/step - loss: 0.1108 - acc: 0.9705 - val_loss: 0.7543 - val_acc: 0.7340\n",
      "Epoch 19/20\n",
      "100/100 [==============================] - 242s 2s/step - loss: 0.0955 - acc: 0.9690 - val_loss: 0.7472 - val_acc: 0.7420\n",
      "Epoch 20/20\n",
      "100/100 [==============================] - 238s 2s/step - loss: 0.0765 - acc: 0.9820 - val_loss: 0.7947 - val_acc: 0.7320\n"
     ]
    }
   ],
   "source": [
    "history = model.fit_generator(\n",
    "      train_generator,\n",
    "      steps_per_epoch=100,\n",
    "      epochs=20,\n",
    "      validation_data=validation_generator,\n",
    "      validation_steps=50)"
   ]
  },
  {
   "cell_type": "code",
   "execution_count": 14,
   "metadata": {},
   "outputs": [
    {
     "data": {
      "image/png": "[encoded data removed]",
      "text/plain": [
       "<Figure size 432x288 with 1 Axes>"
      ]
     },
     "metadata": {},
     "output_type": "display_data"
    }
   ],
   "source": [
    "import matplotlib.pyplot as plt\n",
    "\n",
    "acc = history.history['acc']\n",
    "val_acc = history.history['val_acc']\n",
    "\n",
    "epochs = range(1, len(acc) + 1)\n",
    "\n",
    "plt.figure()\n",
    "\n",
    "plt.plot(epochs, acc, 'bo', label='Training Accuracy')\n",
    "plt.plot(epochs, val_acc, 'b', label='Validation Accuracy')\n",
    "plt.title('Training and validation Accuracy')\n",
    "plt.legend()\n",
    "\n",
    "plt.show()"
   ]
  },
  {
   "cell_type": "code",
   "execution_count": 15,
   "metadata": {},
   "outputs": [
    {
     "data": {
      "image/png": "[encoded data removed]",
      "text/plain": [
       "<Figure size 432x288 with 1 Axes>"
      ]
     },
     "metadata": {},
     "output_type": "display_data"
    }
   ],
   "source": [
    "import matplotlib.pyplot as plt\n",
    "\n",
    "acc = history.history['loss']\n",
    "val_acc = history.history['val_loss']\n",
    "\n",
    "epochs = range(1, len(acc) + 1)\n",
    "\n",
    "plt.figure()\n",
    "\n",
    "plt.plot(epochs, acc, 'bo', label='Training Loss')\n",
    "plt.plot(epochs, val_acc, 'b', label='Validation Loss')\n",
    "plt.title('Training and validation Loss')\n",
    "plt.legend()\n",
    "\n",
    "plt.show()"
   ]
  },
  {
   "cell_type": "code",
   "execution_count": null,
   "metadata": {},
   "outputs": [],
   "source": []
  }
 ],
 "metadata": {
  "kernelspec": {
   "display_name": "Python 3",
   "language": "python",
   "name": "python3"
  },
  "language_info": {
   "codemirror_mode": {
    "name": "ipython",
    "version": 3
   },
   "file_extension": ".py",
   "mimetype": "text/x-python",
   "name": "python",
   "nbconvert_exporter": "python",
   "pygments_lexer": "ipython3",
   "version": "3.6.5"
  }
 },
 "nbformat": 4,
 "nbformat_minor": 2
}
